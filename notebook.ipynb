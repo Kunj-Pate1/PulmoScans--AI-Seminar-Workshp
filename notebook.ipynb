{
  "nbformat": 4,
  "nbformat_minor": 0,
  "metadata": {
    "colab": {
      "provenance": []
    },
    "kernelspec": {
      "name": "python3",
      "display_name": "Python 3"
    },
    "language_info": {
      "name": "python"
    }
  },
  "cells": [
    {
      "cell_type": "code",
      "execution_count": null,
      "metadata": {
        "id": "RLYDYQzK4CrB"
      },
      "outputs": [],
      "source": [
        "import numpy as np\n",
        "import pandas as pd\n",
        "import matplotlib.pyplot as plt"
      ]
    },
    {
      "cell_type": "code",
      "source": [
        "# Add Other Todos and start with the intial setup\n",
        "\n",
        "- [ ] Add data preprocessing\n",
        "- [ ] Train initial model\n",
        "- [ ] Evaluate results"
      ],
      "metadata": {
        "id": "37IZ97ln5RpE"
      },
      "execution_count": null,
      "outputs": []
    },
    {
      "cell_type": "code",
      "source": [],
      "metadata": {
        "id": "cux89exo5YKM"
      },
      "execution_count": 2,
      "outputs": []
    }
  ]
}