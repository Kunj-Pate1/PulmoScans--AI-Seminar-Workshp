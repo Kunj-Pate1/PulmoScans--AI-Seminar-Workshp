{
  "cells": [
    {
      "cell_type": "markdown",
      "metadata": {},
      "source": [
        "Importing the necessary libraries"
      ]
    },
    {
      "cell_type": "code",
      "execution_count": 4,
      "metadata": {
        "id": "37IZ97ln5RpE"
      },
      "outputs": [
        {
          "ename": "ModuleNotFoundError",
          "evalue": "No module named 'matplotlib'",
          "output_type": "error",
          "traceback": [
            "\u001b[0;31m---------------------------------------------------------------------------\u001b[0m",
            "\u001b[0;31mModuleNotFoundError\u001b[0m                       Traceback (most recent call last)",
            "Cell \u001b[0;32mIn[4], line 2\u001b[0m\n\u001b[1;32m      1\u001b[0m \u001b[38;5;28;01mimport\u001b[39;00m \u001b[38;5;21;01mos\u001b[39;00m\n\u001b[0;32m----> 2\u001b[0m \u001b[38;5;28;01mimport\u001b[39;00m \u001b[38;5;21;01mmatplotlib\u001b[39;00m\u001b[38;5;21;01m.\u001b[39;00m\u001b[38;5;21;01mpyplot\u001b[39;00m \u001b[38;5;28;01mas\u001b[39;00m \u001b[38;5;21;01mplt\u001b[39;00m\n\u001b[1;32m      3\u001b[0m \u001b[38;5;28;01mimport\u001b[39;00m \u001b[38;5;21;01mcv2\u001b[39;00m\n\u001b[1;32m      4\u001b[0m \u001b[38;5;28;01mfrom\u001b[39;00m \u001b[38;5;21;01msklearn\u001b[39;00m\u001b[38;5;21;01m.\u001b[39;00m\u001b[38;5;21;01mmodel_selection\u001b[39;00m \u001b[38;5;28;01mimport\u001b[39;00m train_test_split\n",
            "\u001b[0;31mModuleNotFoundError\u001b[0m: No module named 'matplotlib'"
          ]
        }
      ],
      "source": [
        "import os\n",
        "import matplotlib.pyplot as plt\n",
        "import cv2\n",
        "from sklearn.model_selection import train_test_split\n",
        "import numpy as np\n",
        "from tqdm import tqdm\n",
        "\n",
        "# Define dataset path\n",
        "dataset_path = \"/kaggle/input/chest-xray-covid19-pneumonia/Data/train\"\n",
        "\n",
        "# Map folders to labels\n",
        "class_map = {\n",
        "    \"COVID19\": \"COVID19\",\n",
        "    \"NORMAL\": \"Normal\",\n",
        "    \"PNEUMONIA\": \"Pneumonia\"\n",
        "}\n",
        "\n",
        "# Locate image paths and labels\n",
        "image_paths = []\n",
        "labels = []\n",
        "\n",
        "for folder_name, label in class_map.items():\n",
        "    folder = os.path.join(dataset_path, folder_name)\n",
        "    for filename in os.listdir(folder):\n",
        "        if filename.endswith(\".png\") or filename.endswith(\".jpeg\") or filename.endswith(\".jpg\"):\n",
        "            image_paths.append(os.path.join(folder, filename))\n",
        "            labels.append(label)\n",
        "\n",
        "print(f\"Total images found: {len(image_paths)}\")\n",
        "\n",
        "# Show sample images\n",
        "def show_samples(paths, labels, n=5):\n",
        "    plt.figure(figsize=(15, 5))\n",
        "    for i in range(n):\n",
        "        img = cv2.imread(paths[i])\n",
        "        img = cv2.cvtColor(img, cv2.COLOR_BGR2RGB)\n",
        "        plt.subplot(1, n, i+1)\n",
        "        plt.imshow(img)\n",
        "        plt.title(labels[i])\n",
        "        plt.axis(\"off\")\n",
        "    plt.show()\n",
        "\n",
        "show_samples(image_paths, labels)\n"
      ]
    },
    {
      "cell_type": "markdown",
      "metadata": {},
      "source": [
        "Preprocessing data with the filtering techinques\n",
        "1. Median Filtered\n",
        "2. NLM Filtered"
      ]
    },
    {
      "cell_type": "code",
      "execution_count": null,
      "metadata": {
        "id": "cux89exo5YKM"
      },
      "outputs": [],
      "source": [
        "# Resize images for uniformity\n",
        "IMG_SIZE = 224\n",
        "\n",
        "# Noise filtering functions\n",
        "def apply_median_filter(img):\n",
        "    return cv2.medianBlur(img, 3)\n",
        "\n",
        "def apply_nlm_filter(img):\n",
        "    return cv2.fastNlMeansDenoisingColored(img, None, 10, 10, 7, 21)\n",
        "\n",
        "# Preprocess function with denoising\n",
        "def preprocess_and_filter(images, labels, method=\"original\"):\n",
        "    processed_images = []\n",
        "    new_labels = []\n",
        "\n",
        "    for path, label in tqdm(zip(images, labels), total=len(images)):\n",
        "        img = cv2.imread(path)\n",
        "        img = cv2.resize(img, (IMG_SIZE, IMG_SIZE))\n",
        "        img = cv2.cvtColor(img, cv2.COLOR_BGR2RGB)\n",
        "\n",
        "        if method == \"median\":\n",
        "            img = apply_median_filter(img)\n",
        "        elif method == \"nlm\":\n",
        "            img = apply_nlm_filter(img)\n",
        "        # else keep original\n",
        "\n",
        "        processed_images.append(img)\n",
        "        new_labels.append(label)\n",
        "\n",
        "    return np.array(processed_images), np.array(new_labels)\n"
      ]
    },
    {
      "cell_type": "code",
      "execution_count": null,
      "metadata": {},
      "outputs": [],
      "source": [
        "images_original, labels_original = preprocess_and_filter(image_paths, labels, method=\"original\")\n",
        "images_median, labels_median = preprocess_and_filter(image_paths, labels, method=\"median\")\n",
        "images_nlm, labels_nlm = preprocess_and_filter(image_paths, labels, method=\"nlm\")"
      ]
    },
    {
      "cell_type": "code",
      "execution_count": null,
      "metadata": {},
      "outputs": [],
      "source": [
        "images_original, labels_original = preprocess_and_filter(image_paths, labels, method=\"original\")\n",
        "images_median, labels_median = preprocess_and_filter(image_paths, labels, method=\"median\")\n",
        "images_nlm, labels_nlm = preprocess_and_filter(image_paths, labels, method=\"nlm\")"
      ]
    }
  ],
  "metadata": {
    "colab": {
      "provenance": []
    },
    "kernelspec": {
      "display_name": "Python 3",
      "name": "python3"
    },
    "language_info": {
      "codemirror_mode": {
        "name": "ipython",
        "version": 3
      },
      "file_extension": ".py",
      "mimetype": "text/x-python",
      "name": "python",
      "nbconvert_exporter": "python",
      "pygments_lexer": "ipython3",
      "version": "3.9.6"
    }
  },
  "nbformat": 4,
  "nbformat_minor": 0
}
